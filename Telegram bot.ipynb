{
 "cells": [
  {
   "cell_type": "code",
   "execution_count": 2,
   "id": "0567c8b5",
   "metadata": {},
   "outputs": [],
   "source": [
    "import tensorflow as tf\n",
    "from tensorflow.keras.models import Model\n",
    "from tensorflow.keras.layers import Dense, Conv2D, Dropout, BatchNormalization, MaxPooling2D, Flatten, Input\n",
    "import matplotlib.pyplot as plt\n",
    "import numpy as np\n",
    "import pandas as pd\n"
   ]
  },
  {
   "cell_type": "code",
   "execution_count": 3,
   "id": "5ac817ae",
   "metadata": {},
   "outputs": [
    {
     "name": "stdout",
     "output_type": "stream",
     "text": [
      "(50000, 32, 32, 3)\n"
     ]
    }
   ],
   "source": [
    "cifar10 = tf.keras.datasets.cifar10\n",
    "(X_train,y_train), (X_test, y_test) = cifar10.load_data()\n",
    "X_train, X_test = X_train/255.0, X_test/255.0\n",
    "y_train, y_test = y_train.flatten(), y_test.flatten()\n",
    "print(X_train.shape)"
   ]
  },
  {
   "cell_type": "code",
   "execution_count": 4,
   "id": "87fad804",
   "metadata": {},
   "outputs": [
    {
     "name": "stdout",
     "output_type": "stream",
     "text": [
      "10\n"
     ]
    }
   ],
   "source": [
    "k = len(set(y_train))\n",
    "print(k)"
   ]
  },
  {
   "cell_type": "code",
   "execution_count": 5,
   "id": "25c04c73",
   "metadata": {},
   "outputs": [],
   "source": [
    "class_names = ['Plane', 'Car', 'Bird', 'Cat', 'Deer', 'Dog', 'Frog', 'Horse', 'Ship', 'Truck']"
   ]
  },
  {
   "cell_type": "code",
   "execution_count": 6,
   "id": "4434e63d",
   "metadata": {},
   "outputs": [],
   "source": [
    "i = Input(X_train[0].shape)\n",
    "\n",
    "\n",
    "x = Conv2D(32, (3,3), activation = 'relu', padding = 'same')(i)\n",
    "x = BatchNormalization()(x)\n",
    "x = Conv2D(32, (3,3), activation = 'relu', padding = 'same')(x)\n",
    "x = BatchNormalization()(x)\n",
    "x = MaxPooling2D((2,2))(x)\n",
    "\n",
    "x = Conv2D(64, (3,3), activation = 'relu', padding = 'same')(i)\n",
    "x = BatchNormalization()(x)\n",
    "x = Conv2D(64, (3,3), activation = 'relu', padding = 'same')(x)\n",
    "x = BatchNormalization()(x)\n",
    "x = MaxPooling2D((2,2))(x)\n",
    "\n",
    "x = Conv2D(128, (3,3), activation = 'relu', padding = 'same')(i)\n",
    "x = BatchNormalization()(x)\n",
    "x = Conv2D(128, (3,3), activation = 'relu', padding = 'same')(x)\n",
    "x = BatchNormalization()(x)\n",
    "x = MaxPooling2D((2,2))(x)\n",
    "\n",
    "x = Flatten()(x)\n",
    "x = Dropout(0.2)(x)\n",
    "x = Dense(1024, activation = 'relu')(x)\n",
    "x = Dropout(0.2)(x)\n",
    "x = Dense(k,activation = 'softmax')(x)\n",
    "\n",
    "\n",
    "model = Model(i,x)"
   ]
  },
  {
   "cell_type": "code",
   "execution_count": 7,
   "id": "648c09d3",
   "metadata": {},
   "outputs": [
    {
     "name": "stdout",
     "output_type": "stream",
     "text": [
      "Requirement already satisfied: python-telegram-bot==13.15 in c:\\users\\mv350\\anaconda3\\lib\\site-packages (13.15)\n",
      "Requirement already satisfied: certifi in c:\\users\\mv350\\anaconda3\\lib\\site-packages (from python-telegram-bot==13.15) (2024.7.4)\n",
      "Requirement already satisfied: tornado==6.1 in c:\\users\\mv350\\anaconda3\\lib\\site-packages (from python-telegram-bot==13.15) (6.1)\n",
      "Requirement already satisfied: APScheduler==3.6.3 in c:\\users\\mv350\\anaconda3\\lib\\site-packages (from python-telegram-bot==13.15) (3.6.3)\n",
      "Requirement already satisfied: pytz>=2018.6 in c:\\users\\mv350\\anaconda3\\lib\\site-packages (from python-telegram-bot==13.15) (2023.3.post1)\n",
      "Requirement already satisfied: cachetools==4.2.2 in c:\\users\\mv350\\anaconda3\\lib\\site-packages (from python-telegram-bot==13.15) (4.2.2)\n",
      "Requirement already satisfied: setuptools>=0.7 in c:\\users\\mv350\\anaconda3\\lib\\site-packages (from APScheduler==3.6.3->python-telegram-bot==13.15) (68.0.0)\n",
      "Requirement already satisfied: six>=1.4.0 in c:\\users\\mv350\\anaconda3\\lib\\site-packages (from APScheduler==3.6.3->python-telegram-bot==13.15) (1.16.0)\n",
      "Requirement already satisfied: tzlocal>=1.2 in c:\\users\\mv350\\anaconda3\\lib\\site-packages (from APScheduler==3.6.3->python-telegram-bot==13.15) (5.2)\n",
      "Requirement already satisfied: tzdata in c:\\users\\mv350\\anaconda3\\lib\\site-packages (from tzlocal>=1.2->APScheduler==3.6.3->python-telegram-bot==13.15) (2023.3)\n"
     ]
    }
   ],
   "source": [
    "!pip install python-telegram-bot==13.15"
   ]
  },
  {
   "cell_type": "code",
   "execution_count": 8,
   "id": "aba16229",
   "metadata": {},
   "outputs": [
    {
     "name": "stdout",
     "output_type": "stream",
     "text": [
      "Name: python-telegram-bot\n",
      "Version: 13.15\n",
      "Summary: We have made you a wrapper you can't refuse\n",
      "Home-page: https://python-telegram-bot.org/\n",
      "Author: Leandro Toledo\n",
      "Author-email: devs@python-telegram-bot.org\n",
      "License: LGPLv3\n",
      "Location: C:\\Users\\mv350\\anaconda3\\Lib\\site-packages\n",
      "Requires: APScheduler, cachetools, certifi, pytz, tornado\n",
      "Required-by: \n"
     ]
    }
   ],
   "source": [
    "!pip show python-telegram-bot\n"
   ]
  },
  {
   "cell_type": "code",
   "execution_count": 9,
   "id": "82d707b5",
   "metadata": {},
   "outputs": [],
   "source": [
    "from telegram.ext import *\n",
    "from io import BytesIO\n",
    "import cv2\n",
    "import tensorflow as tf\n",
    "import numpy as np"
   ]
  },
  {
   "cell_type": "code",
   "execution_count": 10,
   "id": "3802109f",
   "metadata": {},
   "outputs": [],
   "source": [
    "TOKEN = \"7515667266:AAFJgXs8Tyvxhy_cxEikfLjzUiEfRcP8haM\"\n",
    "    "
   ]
  },
  {
   "cell_type": "code",
   "execution_count": null,
   "id": "3e77a590",
   "metadata": {},
   "outputs": [],
   "source": [
    "from telegram.ext import Updater, CommandHandler\n",
    "from queue import Queue\n",
    "\n",
    "\n",
    "\n",
    "\n",
    "\n",
    "def start(update, context):\n",
    "    update.message.reply_text(\"hello welcome!\")\n",
    "    \n",
    "    \n",
    "def help(update, context):\n",
    "    update.message.reply_text(\"\"\"\n",
    "    /start - starts conversation\n",
    "    /help - shows this message\n",
    "    /train - trains the bot\n",
    "    \"\"\")\n",
    "    \n",
    "def train(update, context):\n",
    "    update.message.reply_text(\"Model is Being Trained...\")\n",
    "    model.compile(optimizer = 'adam',\n",
    "             loss = 'sparse_categorical_crossentropy',\n",
    "             metrics = ['accuracy'])\n",
    "    model.fit(X_train,y_train, validation_data = (X_test,y_test), epochs =10)\n",
    "    model.save('Cifar10_Classifier.model')\n",
    "    update.message.reply_text(\"Done you can now send a photo!\") \n",
    "    \n",
    "def handle_message(update,context):\n",
    "    update.message.reply_text(\"please train the model and send a photo\")\n",
    "    \n",
    "    \n",
    "    \n",
    "def handle_photo(update, context):\n",
    "    file = context.bot.get_file(update.message.photo[-1].file_id)\n",
    "    f = BytesIO(file.download_as_bytearray())\n",
    "    file_bytes = np.asarray(bytearray(f.read()), dtype = np.uint8)\n",
    "    \n",
    "    \n",
    "    img = cv2.imdecode(file_bytes, cv2.IMREAD_COLOR)\n",
    "    img = cv2.cvtColor(img, cv2.COLOR_RGB2BGR)\n",
    "    img = cv2.resize(img, (32,32), interpolation = cv2.INTER_AREA)\n",
    "    \n",
    "    \n",
    "    prediction = model.predict(np.array([img/ 255.0]))\n",
    "    update.message.reply_text(f\"In this Image I see a...{class_names[np.argmax(prediction)]}\")\n",
    "    \n",
    "from telegram.ext import Updater, CommandHandler, MessageHandler, Filters\n",
    "\n",
    "\n",
    "TOKEN = #Type your Token here in \"\" made from 'botfather' bot in telegram(note:keep your token secret)\n",
    "\n",
    "\n",
    "updater = Updater(TOKEN, use_context=True)\n",
    "dp = updater.dispatcher\n",
    "\n",
    "\n",
    "\n",
    "\n",
    "dp.add_handler(CommandHandler(\"start\", start))\n",
    "dp.add_handler(CommandHandler(\"train\", train))\n",
    "dp.add_handler(CommandHandler(\"help\", help))\n",
    "dp.add_handler(MessageHandler(Filters.text & ~Filters.command, handle_message))  # Handles non-command text messages\n",
    "dp.add_handler(MessageHandler(Filters.photo, handle_photo))  # Handles photo messages\n",
    "\n",
    "# Start the bot\n",
    "updater.start_polling()\n",
    "updater.idle()\n"
   ]
  },
  {
   "cell_type": "code",
   "execution_count": null,
   "id": "e1d68c85",
   "metadata": {},
   "outputs": [],
   "source": []
  }
 ],
 "metadata": {
  "kernelspec": {
   "display_name": "Python 3 (ipykernel)",
   "language": "python",
   "name": "python3"
  },
  "language_info": {
   "codemirror_mode": {
    "name": "ipython",
    "version": 3
   },
   "file_extension": ".py",
   "mimetype": "text/x-python",
   "name": "python",
   "nbconvert_exporter": "python",
   "pygments_lexer": "ipython3",
   "version": "3.11.5"
  }
 },
 "nbformat": 4,
 "nbformat_minor": 5
}
